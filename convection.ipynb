{
 "cells": [
  {
   "cell_type": "code",
   "execution_count": 1,
   "metadata": {},
   "outputs": [],
   "source": [
    "def newtons_law_of_cooling(temp_object, temp_env, h, area, dt, c, m):\n",
    "    \"\"\"\n",
    "    Returns the new temperature of the object after time dt using Newton's Law of Cooling.\n",
    "    \n",
    "    Parameters:\n",
    "    - temp_object: current temperature of the object (°C)\n",
    "    - temp_env: ambient temperature (°C)\n",
    "    - h: heat transfer coefficient (W/m^2·K)\n",
    "    - area: surface area of the container (m^2)\n",
    "    - dt: time step (seconds)\n",
    "    - c: specific heat capacity of the material (J/kg·K)\n",
    "    - m: mass of the object (kg)\n",
    "    \"\"\"\n",
    "    q = h * area * (temp_env - temp_object)  # Heat transfer rate (W)\n",
    "    delta_T = (q * dt) / (m * c)             # Temperature change\n",
    "    return temp_object + delta_T\n",
    "\n"
   ]
  },
  {
   "cell_type": "code",
   "execution_count": null,
   "metadata": {},
   "outputs": [],
   "source": []
  }
 ],
 "metadata": {
  "kernelspec": {
   "display_name": "base",
   "language": "python",
   "name": "python3"
  },
  "language_info": {
   "codemirror_mode": {
    "name": "ipython",
    "version": 3
   },
   "file_extension": ".py",
   "mimetype": "text/x-python",
   "name": "python",
   "nbconvert_exporter": "python",
   "pygments_lexer": "ipython3",
   "version": "3.12.4"
  }
 },
 "nbformat": 4,
 "nbformat_minor": 2
}
