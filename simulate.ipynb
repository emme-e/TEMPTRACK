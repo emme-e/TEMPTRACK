{
 "cells": [
  {
   "cell_type": "code",
   "execution_count": 1,
   "metadata": {},
   "outputs": [
    {
     "ename": "ModuleNotFoundError",
     "evalue": "No module named 'temptrack'",
     "output_type": "error",
     "traceback": [
      "\u001b[31m---------------------------------------------------------------------------\u001b[39m",
      "\u001b[31mModuleNotFoundError\u001b[39m                       Traceback (most recent call last)",
      "\u001b[36mCell\u001b[39m\u001b[36m \u001b[39m\u001b[32mIn[1]\u001b[39m\u001b[32m, line 1\u001b[39m\n\u001b[32m----> \u001b[39m\u001b[32m1\u001b[39m \u001b[38;5;28;01mfrom\u001b[39;00m\u001b[38;5;250m \u001b[39m\u001b[34;01mtemptrack\u001b[39;00m\u001b[34;01m.\u001b[39;00m\u001b[34;01mmodels\u001b[39;00m\u001b[34;01m.\u001b[39;00m\u001b[34;01mconvection\u001b[39;00m\u001b[38;5;250m \u001b[39m\u001b[38;5;28;01mimport\u001b[39;00m newtons_law_of_cooling\n\u001b[32m      3\u001b[39m \u001b[38;5;28;01mdef\u001b[39;00m\u001b[38;5;250m \u001b[39m\u001b[34mrun_simulation\u001b[39m(container, environment, h, dt, total_time, initial_temp):\n\u001b[32m      4\u001b[39m     time_series = []\n",
      "\u001b[31mModuleNotFoundError\u001b[39m: No module named 'temptrack'"
     ]
    }
   ],
   "source": [
    "from temptrack.models.convection import newtons_law_of_cooling\n",
    "\n",
    "def run_simulation(container, environment, h, dt, total_time, initial_temp):\n",
    "    time_series = []\n",
    "    temp = initial_temp\n",
    "    for t in range(0, int(total_time), int(dt)):\n",
    "        env_temp = environment.get_temperature(t)\n",
    "        temp = newtons_law_of_cooling(\n",
    "            temp, env_temp, h, container.surface_area, dt, container.c, container.mass\n",
    "        )\n",
    "        time_series.append((t, temp))\n",
    "    return time_series\n"
   ]
  },
  {
   "cell_type": "code",
   "execution_count": null,
   "metadata": {},
   "outputs": [],
   "source": []
  }
 ],
 "metadata": {
  "kernelspec": {
   "display_name": "Python 3",
   "language": "python",
   "name": "python3"
  },
  "language_info": {
   "codemirror_mode": {
    "name": "ipython",
    "version": 3
   },
   "file_extension": ".py",
   "mimetype": "text/x-python",
   "name": "python",
   "nbconvert_exporter": "python",
   "pygments_lexer": "ipython3",
   "version": "3.13.2"
  }
 },
 "nbformat": 4,
 "nbformat_minor": 2
}
