{
 "cells": [
  {
   "cell_type": "code",
   "execution_count": null,
   "id": "f2196015-b62c-4a75-b3e4-bda982400b5c",
   "metadata": {},
   "outputs": [],
   "source": [
    "import sympy as sym\n",
    "'''\n",
    "added another heat modelling to solids to extend our library\n",
    "q - heat transfer rate (in watts)\n",
    "k - stands for the thermal conductivity\n",
    "A - this equates for the cross sectional area of the solid\n",
    "T(x) - temperature\n",
    "dT/dx - temperature gradient. rate fo change of temperature\n",
    "\n",
    "'''\n",
    "\n",
    "k, A, x, q= sym.symbols(\"k A x q\")\n",
    "T = sym.Function(\"T\")(x)  \n",
    "\n",
    "k_value = float(input(\"Enter thermal conductivity k (W/m . k): \"))\n",
    "A_value = float(input(\"Enter the cross-sectional area A (m^2): \"))\n",
    "dTdx_value = float(input(\"Enter temperature gradient dT/dx (K/m): \"))\n",
    "\"\"\"\n",
    "allows the use to now input values into the equation to workout the heat transfer rate of the object there testing\n",
    "\"\"\"\n",
    "q_expression = -k * A * sym.diff(T, x)\n",
    "q_value = q_expression.subs({k: k_value, A: A_value, sym.diff(T, x): dTdx_value})\n",
    "q_value_numeric = sym.N(q_value)\n",
    "print(f\" The Heat transfer rate of q = {q_value_numeric} watts\")"
   ]
  }
 ],
 "metadata": {
  "kernelspec": {
   "display_name": "Python 3 (ipykernel)",
   "language": "python",
   "name": "python3"
  },
  "language_info": {
   "codemirror_mode": {
    "name": "ipython",
    "version": 3
   },
   "file_extension": ".py",
   "mimetype": "text/x-python",
   "name": "python",
   "nbconvert_exporter": "python",
   "pygments_lexer": "ipython3",
   "version": "3.12.4"
  }
 },
 "nbformat": 4,
 "nbformat_minor": 5
}
