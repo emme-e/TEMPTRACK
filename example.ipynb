{
 "cells": [
  {
   "cell_type": "code",
   "execution_count": 1,
   "id": "9128d7af",
   "metadata": {},
   "outputs": [
    {
     "ename": "SyntaxError",
     "evalue": "unexpected character after line continuation character (4163120927.py, line 5)",
     "output_type": "error",
     "traceback": [
      "  \u001b[36mCell\u001b[39m\u001b[36m \u001b[39m\u001b[32mIn[1]\u001b[39m\u001b[32m, line 5\u001b[39m\n\u001b[31m    \u001b[39m\u001b[31mcontainer = Container(\\\"Coffee Mug\\\", mass=0.3, specific_heat=4186, surface_area=0.03)\u001b[39m\n                           ^\n\u001b[31mSyntaxError\u001b[39m\u001b[31m:\u001b[39m unexpected character after line continuation character\n"
     ]
    }
   ],
   "source": [
    "from temptrack.containers.base import Container\n",
    "from temptrack.environment.ambient import AmbientEnvironment\n",
    "from temptrack.simulation.simulate import run_simulation\n",
    "\n",
    "container = Container(\\\"Coffee Mug\\\", mass=0.3, specific_heat=4186, surface_area=0.03)\n",
    "env = AmbientEnvironment(temperature=22)  # Room temp\n",
    "\n",
    "results = run_simulation(container, env, h=10, dt=1, total_time=600, initial_temp=90)\n",
    "\n",
    "for t, temp in results:\n",
    "    if t % 60 == 0:\n",
    "        print(f\\\"Time: {t}s — Temperature: {temp:.2f}°C\\\")\n"
   ]
  },
  {
   "cell_type": "code",
   "execution_count": null,
   "id": "9c9f4afa",
   "metadata": {},
   "outputs": [],
   "source": []
  }
 ],
 "metadata": {
  "kernelspec": {
   "display_name": "Python 3",
   "language": "python",
   "name": "python3"
  },
  "language_info": {
   "codemirror_mode": {
    "name": "ipython",
    "version": 3
   },
   "file_extension": ".py",
   "mimetype": "text/x-python",
   "name": "python",
   "nbconvert_exporter": "python",
   "pygments_lexer": "ipython3",
   "version": "3.13.2"
  }
 },
 "nbformat": 4,
 "nbformat_minor": 5
}
