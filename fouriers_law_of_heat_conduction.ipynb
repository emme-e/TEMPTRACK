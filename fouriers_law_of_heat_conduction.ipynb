{
 "cells": [
  {
   "cell_type": "code",
   "execution_count": 3,
   "id": "227edb42-b4a3-4382-9cdf-11b797d32b39",
   "metadata": {},
   "outputs": [
    {
     "data": {
      "text/latex": [
       "$\\displaystyle q = - A k \\frac{d}{d x} T{\\left(x \\right)}$"
      ],
      "text/plain": [
       "Eq(q, -A*k*Derivative(T(x), x))"
      ]
     },
     "execution_count": 3,
     "metadata": {},
     "output_type": "execute_result"
    }
   ],
   "source": [
    "import sympy as sym\n",
    "'''\n",
    "added another heat modelling to solids to extend our library\n",
    "q - heat transfer rate (in watts)\n",
    "k - stands for the thermal conductivity\n",
    "A - this equates for the cross sectional area of the solid\n",
    "T(x) - temperature\n",
    "dT/dx - temperature gradient. rate fo change of temperature\n",
    "\n",
    "'''\n",
    "\n",
    "k, A, x = sym.symbols(\"k A x\")\n",
    "T = sym.Function(\"T\")(x)  \n",
    "q = sym.Symbol(\"q\")\n",
    "eq = sym.Eq(q, -k * A * sym.diff(T, x))\n",
    "eq\n",
    "'''\n",
    "now lets make data points and test it on mugs of different matarials\n",
    "\n",
    "'''\n",
    "\n"
   ]
  },
  {
   "cell_type": "code",
   "execution_count": null,
   "id": "20d5363a-93a4-4e2a-a3f3-78cdd34e5a2b",
   "metadata": {},
   "outputs": [],
   "source": []
  }
 ],
 "metadata": {
  "kernelspec": {
   "display_name": "Python 3 (ipykernel)",
   "language": "python",
   "name": "python3"
  },
  "language_info": {
   "codemirror_mode": {
    "name": "ipython",
    "version": 3
   },
   "file_extension": ".py",
   "mimetype": "text/x-python",
   "name": "python",
   "nbconvert_exporter": "python",
   "pygments_lexer": "ipython3",
   "version": "3.12.4"
  }
 },
 "nbformat": 4,
 "nbformat_minor": 5
}
