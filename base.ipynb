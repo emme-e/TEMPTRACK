{
 "cells": [
  {
   "cell_type": "code",
   "execution_count": 3,
   "id": "9c980fa7",
   "metadata": {},
   "outputs": [],
   "source": [
    "class Container:\n",
    "    def __init__(self, name, mass, specific_heat, surface_area):\n",
    "        self.name = name\n",
    "        self.mass = mass\n",
    "        self.c = specific_heat\n",
    "        self.surface_area = surface_area\n"
   ]
  },
  {
   "cell_type": "code",
   "execution_count": null,
   "id": "8206ce31",
   "metadata": {},
   "outputs": [],
   "source": []
  }
 ],
 "metadata": {
  "kernelspec": {
   "display_name": "base",
   "language": "python",
   "name": "python3"
  },
  "language_info": {
   "codemirror_mode": {
    "name": "ipython",
    "version": 3
   },
   "file_extension": ".py",
   "mimetype": "text/x-python",
   "name": "python",
   "nbconvert_exporter": "python",
   "pygments_lexer": "ipython3",
   "version": "3.12.4"
  }
 },
 "nbformat": 4,
 "nbformat_minor": 5
}
